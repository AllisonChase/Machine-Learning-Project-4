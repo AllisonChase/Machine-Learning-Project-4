{
  "cells": [
    {
      "cell_type": "code",
      "execution_count": 1,
      "metadata": {
        "id": "Ows9rfd-_wt9"
      },
      "outputs": [],
      "source": [
        "from sklearn.model_selection import train_test_split\n",
        "from sklearn.preprocessing import StandardScaler, LabelEncoder\n",
        "from sklearn.ensemble import RandomForestRegressor, RandomForestClassifier\n",
        "from sklearn.metrics import confusion_matrix, accuracy_score, classification_report\n",
        "import pandas as pd\n",
        "import os\n",
        "import sqlite3\n",
        "from pathlib import Path"
      ]
    },
    {
      "cell_type": "code",
      "execution_count": 2,
      "metadata": {
        "colab": {
          "base_uri": "https://localhost:8080/"
        },
        "id": "QKQfMS9YAqDz",
        "outputId": "b0db8c4f-7a56-4f8d-8b54-b09ac7e1738a"
      },
      "outputs": [],
      "source": [
        "# Prevent extra DB creations.\n",
        "# Check to if the provider_info.db file exists in the resources folder. If it does, delete it.\n",
        "if os.path.exists('Data/provider_info.db'):\n",
        "    os.remove('Data/provider_info.db')\n",
        "else:\n",
        "    print(\"The file does not exist.\")"
      ]
    },
    {
      "cell_type": "code",
      "execution_count": 3,
      "metadata": {
        "id": "knp2Fx1n_5UX"
      },
      "outputs": [],
      "source": [
        "# import the new CSV file \"NH_ProviderInfo_Aug2024.csv\" from the sample_data folder into a sqlite database.\n",
        "# Create a connection to the sqlite database, and create the new .db file in the resources folder.\n",
        "conn = sqlite3.connect('Data/provider_info.db')"
      ]
    },
    {
      "cell_type": "code",
      "execution_count": 4,
      "metadata": {
        "id": "9i4gWdKrA_hS"
      },
      "outputs": [],
      "source": [
        "# Use the newly created SQL Database connection to import the new CSV file into the database.\n",
        "csv_file = 'Data/NH_ProviderInfo_Aug2024.csv'\n",
        "provider_info = pd.read_csv(csv_file)"
      ]
    },
    {
      "cell_type": "code",
      "execution_count": 5,
      "metadata": {
        "colab": {
          "base_uri": "https://localhost:8080/"
        },
        "id": "RFVr82vRBUPR",
        "outputId": "5093a1a7-3b1b-4849-af14-7f6b71b95aca"
      },
      "outputs": [
        {
          "data": {
            "text/plain": [
              "14825"
            ]
          },
          "execution_count": 5,
          "metadata": {},
          "output_type": "execute_result"
        }
      ],
      "source": [
        "# Save the dataframe to an SQLite table named 'nursinghomedata'\n",
        "provider_info.to_sql('nursinghomedata', conn, if_exists='replace', index=False)"
      ]
    },
    {
      "cell_type": "code",
      "execution_count": 6,
      "metadata": {
        "colab": {
          "base_uri": "https://localhost:8080/",
          "height": 533
        },
        "id": "qe29ckvwBfvO",
        "outputId": "59f3c91c-bf2a-40f7-e31a-f772678d92d6"
      },
      "outputs": [
        {
          "data": {
            "text/html": [
              "<div>\n",
              "<style scoped>\n",
              "    .dataframe tbody tr th:only-of-type {\n",
              "        vertical-align: middle;\n",
              "    }\n",
              "\n",
              "    .dataframe tbody tr th {\n",
              "        vertical-align: top;\n",
              "    }\n",
              "\n",
              "    .dataframe thead th {\n",
              "        text-align: right;\n",
              "    }\n",
              "</style>\n",
              "<table border=\"1\" class=\"dataframe\">\n",
              "  <thead>\n",
              "    <tr style=\"text-align: right;\">\n",
              "      <th></th>\n",
              "      <th>CMS Certification Number (CCN)</th>\n",
              "      <th>Provider Name</th>\n",
              "      <th>Provider Address</th>\n",
              "      <th>City/Town</th>\n",
              "      <th>State</th>\n",
              "      <th>ZIP Code</th>\n",
              "      <th>Telephone Number</th>\n",
              "      <th>Provider SSA County Code</th>\n",
              "      <th>County/Parish</th>\n",
              "      <th>Ownership Type</th>\n",
              "      <th>...</th>\n",
              "      <th>Number of Citations from Infection Control Inspections</th>\n",
              "      <th>Number of Fines</th>\n",
              "      <th>Total Amount of Fines in Dollars</th>\n",
              "      <th>Number of Payment Denials</th>\n",
              "      <th>Total Number of Penalties</th>\n",
              "      <th>Location</th>\n",
              "      <th>Latitude</th>\n",
              "      <th>Longitude</th>\n",
              "      <th>Geocoding Footnote</th>\n",
              "      <th>Processing Date</th>\n",
              "    </tr>\n",
              "  </thead>\n",
              "  <tbody>\n",
              "    <tr>\n",
              "      <th>0</th>\n",
              "      <td>015009</td>\n",
              "      <td>BURNS NURSING HOME, INC.</td>\n",
              "      <td>701 MONROE STREET NW</td>\n",
              "      <td>RUSSELLVILLE</td>\n",
              "      <td>AL</td>\n",
              "      <td>35653</td>\n",
              "      <td>2563324110</td>\n",
              "      <td>290</td>\n",
              "      <td>Franklin</td>\n",
              "      <td>For profit - Corporation</td>\n",
              "      <td>...</td>\n",
              "      <td>NaN</td>\n",
              "      <td>2</td>\n",
              "      <td>24644.14</td>\n",
              "      <td>0</td>\n",
              "      <td>2</td>\n",
              "      <td>701 MONROE STREET NW,RUSSELLVILLE,AL,35653</td>\n",
              "      <td>34.5149</td>\n",
              "      <td>-87.736</td>\n",
              "      <td>NaN</td>\n",
              "      <td>2024-08-01</td>\n",
              "    </tr>\n",
              "    <tr>\n",
              "      <th>1</th>\n",
              "      <td>015010</td>\n",
              "      <td>COOSA VALLEY HEALTHCARE CENTER</td>\n",
              "      <td>260 WEST WALNUT STREET</td>\n",
              "      <td>SYLACAUGA</td>\n",
              "      <td>AL</td>\n",
              "      <td>35150</td>\n",
              "      <td>2562495604</td>\n",
              "      <td>600</td>\n",
              "      <td>Talladega</td>\n",
              "      <td>For profit - Corporation</td>\n",
              "      <td>...</td>\n",
              "      <td>0.0</td>\n",
              "      <td>0</td>\n",
              "      <td>0.00</td>\n",
              "      <td>0</td>\n",
              "      <td>0</td>\n",
              "      <td>260 WEST WALNUT STREET,SYLACAUGA,AL,35150</td>\n",
              "      <td>33.1637</td>\n",
              "      <td>-86.254</td>\n",
              "      <td>NaN</td>\n",
              "      <td>2024-08-01</td>\n",
              "    </tr>\n",
              "    <tr>\n",
              "      <th>2</th>\n",
              "      <td>015012</td>\n",
              "      <td>HIGHLANDS HEALTH AND REHAB</td>\n",
              "      <td>380 WOODS COVE ROAD</td>\n",
              "      <td>SCOTTSBORO</td>\n",
              "      <td>AL</td>\n",
              "      <td>35768</td>\n",
              "      <td>2562183708</td>\n",
              "      <td>350</td>\n",
              "      <td>Jackson</td>\n",
              "      <td>Government - County</td>\n",
              "      <td>...</td>\n",
              "      <td>NaN</td>\n",
              "      <td>0</td>\n",
              "      <td>0.00</td>\n",
              "      <td>0</td>\n",
              "      <td>0</td>\n",
              "      <td>380 WOODS COVE ROAD,SCOTTSBORO,AL,35768</td>\n",
              "      <td>34.6611</td>\n",
              "      <td>-86.047</td>\n",
              "      <td>NaN</td>\n",
              "      <td>2024-08-01</td>\n",
              "    </tr>\n",
              "    <tr>\n",
              "      <th>3</th>\n",
              "      <td>015014</td>\n",
              "      <td>EASTVIEW REHABILITATION &amp; HEALTHCARE CENTER</td>\n",
              "      <td>7755 FOURTH AVENUE SOUTH</td>\n",
              "      <td>BIRMINGHAM</td>\n",
              "      <td>AL</td>\n",
              "      <td>35206</td>\n",
              "      <td>2058330146</td>\n",
              "      <td>360</td>\n",
              "      <td>Jefferson</td>\n",
              "      <td>For profit - Individual</td>\n",
              "      <td>...</td>\n",
              "      <td>0.0</td>\n",
              "      <td>0</td>\n",
              "      <td>0.00</td>\n",
              "      <td>0</td>\n",
              "      <td>0</td>\n",
              "      <td>7755 FOURTH AVENUE SOUTH,BIRMINGHAM,AL,35206</td>\n",
              "      <td>33.5595</td>\n",
              "      <td>-86.722</td>\n",
              "      <td>NaN</td>\n",
              "      <td>2024-08-01</td>\n",
              "    </tr>\n",
              "    <tr>\n",
              "      <th>4</th>\n",
              "      <td>015015</td>\n",
              "      <td>PLANTATION MANOR NURSING HOME</td>\n",
              "      <td>6450 OLD TUSCALOOSA HIGHWAY</td>\n",
              "      <td>MC CALLA</td>\n",
              "      <td>AL</td>\n",
              "      <td>35111</td>\n",
              "      <td>2054776161</td>\n",
              "      <td>360</td>\n",
              "      <td>Jefferson</td>\n",
              "      <td>For profit - Individual</td>\n",
              "      <td>...</td>\n",
              "      <td>NaN</td>\n",
              "      <td>0</td>\n",
              "      <td>0.00</td>\n",
              "      <td>0</td>\n",
              "      <td>0</td>\n",
              "      <td>6450 OLD TUSCALOOSA HIGHWAY,MC CALLA,AL,35111</td>\n",
              "      <td>33.3221</td>\n",
              "      <td>-87.034</td>\n",
              "      <td>NaN</td>\n",
              "      <td>2024-08-01</td>\n",
              "    </tr>\n",
              "  </tbody>\n",
              "</table>\n",
              "<p>5 rows × 103 columns</p>\n",
              "</div>"
            ],
            "text/plain": [
              "  CMS Certification Number (CCN)                                Provider Name  \\\n",
              "0                         015009                     BURNS NURSING HOME, INC.   \n",
              "1                         015010               COOSA VALLEY HEALTHCARE CENTER   \n",
              "2                         015012                   HIGHLANDS HEALTH AND REHAB   \n",
              "3                         015014  EASTVIEW REHABILITATION & HEALTHCARE CENTER   \n",
              "4                         015015                PLANTATION MANOR NURSING HOME   \n",
              "\n",
              "              Provider Address     City/Town State  ZIP Code  \\\n",
              "0         701 MONROE STREET NW  RUSSELLVILLE    AL     35653   \n",
              "1       260 WEST WALNUT STREET     SYLACAUGA    AL     35150   \n",
              "2          380 WOODS COVE ROAD    SCOTTSBORO    AL     35768   \n",
              "3     7755 FOURTH AVENUE SOUTH    BIRMINGHAM    AL     35206   \n",
              "4  6450 OLD TUSCALOOSA HIGHWAY      MC CALLA    AL     35111   \n",
              "\n",
              "   Telephone Number  Provider SSA County Code County/Parish  \\\n",
              "0        2563324110                       290      Franklin   \n",
              "1        2562495604                       600     Talladega   \n",
              "2        2562183708                       350       Jackson   \n",
              "3        2058330146                       360     Jefferson   \n",
              "4        2054776161                       360     Jefferson   \n",
              "\n",
              "             Ownership Type  ...  \\\n",
              "0  For profit - Corporation  ...   \n",
              "1  For profit - Corporation  ...   \n",
              "2       Government - County  ...   \n",
              "3   For profit - Individual  ...   \n",
              "4   For profit - Individual  ...   \n",
              "\n",
              "   Number of Citations from Infection Control Inspections  Number of Fines  \\\n",
              "0                                                NaN                     2   \n",
              "1                                                0.0                     0   \n",
              "2                                                NaN                     0   \n",
              "3                                                0.0                     0   \n",
              "4                                                NaN                     0   \n",
              "\n",
              "   Total Amount of Fines in Dollars Number of Payment Denials  \\\n",
              "0                          24644.14                         0   \n",
              "1                              0.00                         0   \n",
              "2                              0.00                         0   \n",
              "3                              0.00                         0   \n",
              "4                              0.00                         0   \n",
              "\n",
              "  Total Number of Penalties                                       Location  \\\n",
              "0                         2     701 MONROE STREET NW,RUSSELLVILLE,AL,35653   \n",
              "1                         0      260 WEST WALNUT STREET,SYLACAUGA,AL,35150   \n",
              "2                         0        380 WOODS COVE ROAD,SCOTTSBORO,AL,35768   \n",
              "3                         0   7755 FOURTH AVENUE SOUTH,BIRMINGHAM,AL,35206   \n",
              "4                         0  6450 OLD TUSCALOOSA HIGHWAY,MC CALLA,AL,35111   \n",
              "\n",
              "  Latitude Longitude  Geocoding Footnote Processing Date  \n",
              "0  34.5149   -87.736                 NaN      2024-08-01  \n",
              "1  33.1637   -86.254                 NaN      2024-08-01  \n",
              "2  34.6611   -86.047                 NaN      2024-08-01  \n",
              "3  33.5595   -86.722                 NaN      2024-08-01  \n",
              "4  33.3221   -87.034                 NaN      2024-08-01  \n",
              "\n",
              "[5 rows x 103 columns]"
            ]
          },
          "execution_count": 6,
          "metadata": {},
          "output_type": "execute_result"
        }
      ],
      "source": [
        "# Display the first 5 rows of the data from the sqlite database\n",
        "query = 'SELECT * FROM nursinghomedata'\n",
        "alldata = pd.read_sql(query, conn)\n",
        "alldata.head()"
      ]
    },
    {
      "cell_type": "code",
      "execution_count": 7,
      "metadata": {
        "colab": {
          "base_uri": "https://localhost:8080/"
        },
        "id": "rmTbLpPHBphv",
        "outputId": "4738e060-e455-49ef-9276-c95d9e30083a"
      },
      "outputs": [
        {
          "name": "stdout",
          "output_type": "stream",
          "text": [
            "     cid                            name  type  notnull dflt_value  pk\n",
            "0      0  CMS Certification Number (CCN)  TEXT        0       None   0\n",
            "1      1                   Provider Name  TEXT        0       None   0\n",
            "2      2                Provider Address  TEXT        0       None   0\n",
            "3      3                       City/Town  TEXT        0       None   0\n",
            "4      4                           State  TEXT        0       None   0\n",
            "..   ...                             ...   ...      ...        ...  ..\n",
            "98    98                        Location  TEXT        0       None   0\n",
            "99    99                        Latitude  REAL        0       None   0\n",
            "100  100                       Longitude  REAL        0       None   0\n",
            "101  101              Geocoding Footnote  REAL        0       None   0\n",
            "102  102                 Processing Date  TEXT        0       None   0\n",
            "\n",
            "[103 rows x 6 columns]\n"
          ]
        }
      ],
      "source": [
        "# Run a SQL query to find the list of columns in the database\n",
        "conn = sqlite3.connect('Data/provider_info.db')\n",
        "query = 'PRAGMA table_info(nursinghomedata)'\n",
        "columns = pd.read_sql(query, conn)\n",
        "print(columns)"
      ]
    },
    {
      "cell_type": "code",
      "execution_count": 8,
      "metadata": {
        "colab": {
          "base_uri": "https://localhost:8080/",
          "height": 521
        },
        "id": "iHR9GPoAByDh",
        "outputId": "93710dc8-11cf-49c4-d892-4de8affa8f5d"
      },
      "outputs": [
        {
          "data": {
            "text/html": [
              "<div>\n",
              "<style scoped>\n",
              "    .dataframe tbody tr th:only-of-type {\n",
              "        vertical-align: middle;\n",
              "    }\n",
              "\n",
              "    .dataframe tbody tr th {\n",
              "        vertical-align: top;\n",
              "    }\n",
              "\n",
              "    .dataframe thead th {\n",
              "        text-align: right;\n",
              "    }\n",
              "</style>\n",
              "<table border=\"1\" class=\"dataframe\">\n",
              "  <thead>\n",
              "    <tr style=\"text-align: right;\">\n",
              "      <th></th>\n",
              "      <th>Overall Rating</th>\n",
              "      <th>Ownership Type</th>\n",
              "      <th>Provider Type</th>\n",
              "      <th>Number of Certified Beds</th>\n",
              "      <th>Average Number of Residents per Day</th>\n",
              "      <th>Reported Total Nurse Staffing Hours per Resident per Day</th>\n",
              "      <th>Health Inspection Rating</th>\n",
              "      <th>Number of Substantiated Complaints</th>\n",
              "      <th>Number of Fines</th>\n",
              "      <th>Total Amount of Fines in Dollars</th>\n",
              "      <th>County/Parish</th>\n",
              "      <th>Total Number of Penalties</th>\n",
              "    </tr>\n",
              "  </thead>\n",
              "  <tbody>\n",
              "    <tr>\n",
              "      <th>0</th>\n",
              "      <td>2.0</td>\n",
              "      <td>For profit - Corporation</td>\n",
              "      <td>Medicare and Medicaid</td>\n",
              "      <td>57</td>\n",
              "      <td>50.0</td>\n",
              "      <td>4.37137</td>\n",
              "      <td>2.0</td>\n",
              "      <td>0</td>\n",
              "      <td>2</td>\n",
              "      <td>24644.14</td>\n",
              "      <td>Franklin</td>\n",
              "      <td>2</td>\n",
              "    </tr>\n",
              "    <tr>\n",
              "      <th>1</th>\n",
              "      <td>4.0</td>\n",
              "      <td>For profit - Corporation</td>\n",
              "      <td>Medicare and Medicaid</td>\n",
              "      <td>85</td>\n",
              "      <td>76.9</td>\n",
              "      <td>4.25182</td>\n",
              "      <td>4.0</td>\n",
              "      <td>0</td>\n",
              "      <td>0</td>\n",
              "      <td>0.00</td>\n",
              "      <td>Talladega</td>\n",
              "      <td>0</td>\n",
              "    </tr>\n",
              "    <tr>\n",
              "      <th>2</th>\n",
              "      <td>4.0</td>\n",
              "      <td>Government - County</td>\n",
              "      <td>Medicare and Medicaid</td>\n",
              "      <td>50</td>\n",
              "      <td>45.1</td>\n",
              "      <td>4.59373</td>\n",
              "      <td>4.0</td>\n",
              "      <td>0</td>\n",
              "      <td>0</td>\n",
              "      <td>0.00</td>\n",
              "      <td>Jackson</td>\n",
              "      <td>0</td>\n",
              "    </tr>\n",
              "    <tr>\n",
              "      <th>3</th>\n",
              "      <td>2.0</td>\n",
              "      <td>For profit - Individual</td>\n",
              "      <td>Medicare and Medicaid</td>\n",
              "      <td>92</td>\n",
              "      <td>76.9</td>\n",
              "      <td>3.01781</td>\n",
              "      <td>3.0</td>\n",
              "      <td>0</td>\n",
              "      <td>0</td>\n",
              "      <td>0.00</td>\n",
              "      <td>Jefferson</td>\n",
              "      <td>0</td>\n",
              "    </tr>\n",
              "    <tr>\n",
              "      <th>4</th>\n",
              "      <td>2.0</td>\n",
              "      <td>For profit - Individual</td>\n",
              "      <td>Medicare and Medicaid</td>\n",
              "      <td>103</td>\n",
              "      <td>86.6</td>\n",
              "      <td>3.49256</td>\n",
              "      <td>2.0</td>\n",
              "      <td>1</td>\n",
              "      <td>0</td>\n",
              "      <td>0.00</td>\n",
              "      <td>Jefferson</td>\n",
              "      <td>0</td>\n",
              "    </tr>\n",
              "  </tbody>\n",
              "</table>\n",
              "</div>"
            ],
            "text/plain": [
              "   Overall Rating            Ownership Type          Provider Type  \\\n",
              "0             2.0  For profit - Corporation  Medicare and Medicaid   \n",
              "1             4.0  For profit - Corporation  Medicare and Medicaid   \n",
              "2             4.0       Government - County  Medicare and Medicaid   \n",
              "3             2.0   For profit - Individual  Medicare and Medicaid   \n",
              "4             2.0   For profit - Individual  Medicare and Medicaid   \n",
              "\n",
              "   Number of Certified Beds  Average Number of Residents per Day  \\\n",
              "0                        57                                 50.0   \n",
              "1                        85                                 76.9   \n",
              "2                        50                                 45.1   \n",
              "3                        92                                 76.9   \n",
              "4                       103                                 86.6   \n",
              "\n",
              "   Reported Total Nurse Staffing Hours per Resident per Day  \\\n",
              "0                                            4.37137          \n",
              "1                                            4.25182          \n",
              "2                                            4.59373          \n",
              "3                                            3.01781          \n",
              "4                                            3.49256          \n",
              "\n",
              "   Health Inspection Rating  Number of Substantiated Complaints  \\\n",
              "0                       2.0                                   0   \n",
              "1                       4.0                                   0   \n",
              "2                       4.0                                   0   \n",
              "3                       3.0                                   0   \n",
              "4                       2.0                                   1   \n",
              "\n",
              "   Number of Fines  Total Amount of Fines in Dollars County/Parish  \\\n",
              "0                2                          24644.14      Franklin   \n",
              "1                0                              0.00     Talladega   \n",
              "2                0                              0.00       Jackson   \n",
              "3                0                              0.00     Jefferson   \n",
              "4                0                              0.00     Jefferson   \n",
              "\n",
              "   Total Number of Penalties  \n",
              "0                          2  \n",
              "1                          0  \n",
              "2                          0  \n",
              "3                          0  \n",
              "4                          0  "
            ]
          },
          "execution_count": 8,
          "metadata": {},
          "output_type": "execute_result"
        }
      ],
      "source": [
        "# Run a sample SQL query\n",
        "query = \"\"\"\n",
        "SELECT\n",
        "    \"Overall Rating\",\n",
        "    \"Ownership Type\",\n",
        "    \"Provider Type\",\n",
        "    \"Number of Certified Beds\",\n",
        "    \"Average Number of Residents per Day\",\n",
        "    \"Reported Total Nurse Staffing Hours per Resident per Day\",\n",
        "    \"Health Inspection Rating\",\n",
        "    \"Number of Substantiated Complaints\",\n",
        "    \"Number of Fines\",\n",
        "    \"Total Amount of Fines in Dollars\",\n",
        "    \"County/Parish\",\n",
        "    \"Total Number of Penalties\"\n",
        "FROM\n",
        "    nursinghomedata\n",
        "\"\"\"\n",
        "# Run the query and fetch the result\n",
        "df_clean = pd.read_sql(query, conn)\n",
        "\n",
        "# Handling missing values\n",
        "df_clean = df_clean.dropna()\n",
        "\n",
        "# Print the result\n",
        "df_clean.head()"
      ]
    },
    {
      "cell_type": "code",
      "execution_count": 9,
      "metadata": {
        "id": "RryJWgqDEM5e"
      },
      "outputs": [],
      "source": [
        "# Encoding categorical variables\n",
        "label_encoders = {}\n",
        "categorical_columns = ['Ownership Type', 'Provider Type', 'County/Parish']\n",
        "\n",
        "for col in categorical_columns:\n",
        "    le = LabelEncoder()\n",
        "    df_clean[col] = le.fit_transform(df_clean[col])\n",
        "    label_encoders[col] = le"
      ]
    },
    {
      "cell_type": "code",
      "execution_count": 10,
      "metadata": {
        "id": "uV3fHYkCE25p"
      },
      "outputs": [],
      "source": [
        "# Defining the features (X) and target (y)\n",
        "X = df_clean.drop('Overall Rating', axis=1)\n",
        "y = df_clean['Overall Rating']"
      ]
    },
    {
      "cell_type": "code",
      "execution_count": 11,
      "metadata": {
        "id": "Va5AGR2ZE4hd"
      },
      "outputs": [],
      "source": [
        "# Splitting the data into training and testing sets\n",
        "X_train, X_test, y_train, y_test = train_test_split(X, y, test_size=0.2, random_state=42)"
      ]
    },
    {
      "cell_type": "code",
      "execution_count": 12,
      "metadata": {
        "id": "kiw_Bka2E6DD"
      },
      "outputs": [],
      "source": [
        "# Scaling numerical features\n",
        "scaler = StandardScaler()\n",
        "X_train_scaled = scaler.fit_transform(X_train)\n",
        "X_test_scaled = scaler.transform(X_test)"
      ]
    },
    {
      "cell_type": "code",
      "execution_count": 13,
      "metadata": {
        "colab": {
          "base_uri": "https://localhost:8080/",
          "height": 75
        },
        "id": "vYH1MHZiE7vu",
        "outputId": "5c45819b-8045-45f2-c022-12fc8e4b2e30"
      },
      "outputs": [
        {
          "data": {
            "text/html": [
              "<style>#sk-container-id-1 {color: black;}#sk-container-id-1 pre{padding: 0;}#sk-container-id-1 div.sk-toggleable {background-color: white;}#sk-container-id-1 label.sk-toggleable__label {cursor: pointer;display: block;width: 100%;margin-bottom: 0;padding: 0.3em;box-sizing: border-box;text-align: center;}#sk-container-id-1 label.sk-toggleable__label-arrow:before {content: \"▸\";float: left;margin-right: 0.25em;color: #696969;}#sk-container-id-1 label.sk-toggleable__label-arrow:hover:before {color: black;}#sk-container-id-1 div.sk-estimator:hover label.sk-toggleable__label-arrow:before {color: black;}#sk-container-id-1 div.sk-toggleable__content {max-height: 0;max-width: 0;overflow: hidden;text-align: left;background-color: #f0f8ff;}#sk-container-id-1 div.sk-toggleable__content pre {margin: 0.2em;color: black;border-radius: 0.25em;background-color: #f0f8ff;}#sk-container-id-1 input.sk-toggleable__control:checked~div.sk-toggleable__content {max-height: 200px;max-width: 100%;overflow: auto;}#sk-container-id-1 input.sk-toggleable__control:checked~label.sk-toggleable__label-arrow:before {content: \"▾\";}#sk-container-id-1 div.sk-estimator input.sk-toggleable__control:checked~label.sk-toggleable__label {background-color: #d4ebff;}#sk-container-id-1 div.sk-label input.sk-toggleable__control:checked~label.sk-toggleable__label {background-color: #d4ebff;}#sk-container-id-1 input.sk-hidden--visually {border: 0;clip: rect(1px 1px 1px 1px);clip: rect(1px, 1px, 1px, 1px);height: 1px;margin: -1px;overflow: hidden;padding: 0;position: absolute;width: 1px;}#sk-container-id-1 div.sk-estimator {font-family: monospace;background-color: #f0f8ff;border: 1px dotted black;border-radius: 0.25em;box-sizing: border-box;margin-bottom: 0.5em;}#sk-container-id-1 div.sk-estimator:hover {background-color: #d4ebff;}#sk-container-id-1 div.sk-parallel-item::after {content: \"\";width: 100%;border-bottom: 1px solid gray;flex-grow: 1;}#sk-container-id-1 div.sk-label:hover label.sk-toggleable__label {background-color: #d4ebff;}#sk-container-id-1 div.sk-serial::before {content: \"\";position: absolute;border-left: 1px solid gray;box-sizing: border-box;top: 0;bottom: 0;left: 50%;z-index: 0;}#sk-container-id-1 div.sk-serial {display: flex;flex-direction: column;align-items: center;background-color: white;padding-right: 0.2em;padding-left: 0.2em;position: relative;}#sk-container-id-1 div.sk-item {position: relative;z-index: 1;}#sk-container-id-1 div.sk-parallel {display: flex;align-items: stretch;justify-content: center;background-color: white;position: relative;}#sk-container-id-1 div.sk-item::before, #sk-container-id-1 div.sk-parallel-item::before {content: \"\";position: absolute;border-left: 1px solid gray;box-sizing: border-box;top: 0;bottom: 0;left: 50%;z-index: -1;}#sk-container-id-1 div.sk-parallel-item {display: flex;flex-direction: column;z-index: 1;position: relative;background-color: white;}#sk-container-id-1 div.sk-parallel-item:first-child::after {align-self: flex-end;width: 50%;}#sk-container-id-1 div.sk-parallel-item:last-child::after {align-self: flex-start;width: 50%;}#sk-container-id-1 div.sk-parallel-item:only-child::after {width: 0;}#sk-container-id-1 div.sk-dashed-wrapped {border: 1px dashed gray;margin: 0 0.4em 0.5em 0.4em;box-sizing: border-box;padding-bottom: 0.4em;background-color: white;}#sk-container-id-1 div.sk-label label {font-family: monospace;font-weight: bold;display: inline-block;line-height: 1.2em;}#sk-container-id-1 div.sk-label-container {text-align: center;}#sk-container-id-1 div.sk-container {/* jupyter's `normalize.less` sets `[hidden] { display: none; }` but bootstrap.min.css set `[hidden] { display: none !important; }` so we also need the `!important` here to be able to override the default hidden behavior on the sphinx rendered scikit-learn.org. See: https://github.com/scikit-learn/scikit-learn/issues/21755 */display: inline-block !important;position: relative;}#sk-container-id-1 div.sk-text-repr-fallback {display: none;}</style><div id=\"sk-container-id-1\" class=\"sk-top-container\"><div class=\"sk-text-repr-fallback\"><pre>RandomForestRegressor(random_state=42)</pre><b>In a Jupyter environment, please rerun this cell to show the HTML representation or trust the notebook. <br />On GitHub, the HTML representation is unable to render, please try loading this page with nbviewer.org.</b></div><div class=\"sk-container\" hidden><div class=\"sk-item\"><div class=\"sk-estimator sk-toggleable\"><input class=\"sk-toggleable__control sk-hidden--visually\" id=\"sk-estimator-id-1\" type=\"checkbox\" checked><label for=\"sk-estimator-id-1\" class=\"sk-toggleable__label sk-toggleable__label-arrow\">RandomForestRegressor</label><div class=\"sk-toggleable__content\"><pre>RandomForestRegressor(random_state=42)</pre></div></div></div></div></div>"
            ],
            "text/plain": [
              "RandomForestRegressor(random_state=42)"
            ]
          },
          "execution_count": 13,
          "metadata": {},
          "output_type": "execute_result"
        }
      ],
      "source": [
        "# Training the Random Forest Regressor\n",
        "model = RandomForestRegressor(n_estimators=100, random_state=42)\n",
        "model.fit(X_train_scaled, y_train)"
      ]
    },
    {
      "cell_type": "code",
      "execution_count": 14,
      "metadata": {
        "id": "Lmn2gDpQFHQz"
      },
      "outputs": [],
      "source": [
        "# Making predictions\n",
        "y_pred = model.predict(X_test_scaled)"
      ]
    },
    {
      "cell_type": "code",
      "execution_count": 15,
      "metadata": {
        "id": "fZyEJCqdFMAh"
      },
      "outputs": [],
      "source": [
        "# Create a random forest classifier\n",
        "rf_model = RandomForestClassifier(n_estimators=100, random_state=42)"
      ]
    },
    {
      "cell_type": "code",
      "execution_count": 16,
      "metadata": {
        "id": "fKaJTvu8FQwh"
      },
      "outputs": [],
      "source": [
        "#Fitting the model\n",
        "rf_model = rf_model.fit(X_train_scaled, y_train)"
      ]
    },
    {
      "cell_type": "code",
      "execution_count": 17,
      "metadata": {
        "id": "Nk4GonasFSY2"
      },
      "outputs": [],
      "source": [
        "# Making predictions using the testing data\n",
        "predictions = rf_model.predict(X_test_scaled)"
      ]
    },
    {
      "cell_type": "code",
      "execution_count": 18,
      "metadata": {
        "id": "Mk5Imq9LFWJB"
      },
      "outputs": [],
      "source": [
        "# Calculating the confusion matrix\n",
        "cm = confusion_matrix(y_test, predictions)\n",
        "cm_df = pd.DataFrame(\n",
        "    cm, index=[\"Actual 0\", \"Actual 1\", \"Actual 2\", \"Actual 3\", \"Actual 4\"],\n",
        "    columns=[\"Predicted 0\", \"Predicted 1\", \"Predicted 2\", \"Predicted 3\", \"Predicted 4\"]\n",
        ")\n",
        "\n",
        "# Calculating the accuracy score\n",
        "acc_score = accuracy_score(y_test, predictions)"
      ]
    },
    {
      "cell_type": "code",
      "execution_count": 19,
      "metadata": {
        "colab": {
          "base_uri": "https://localhost:8080/",
          "height": 474
        },
        "id": "6wG-YHI6FXyX",
        "outputId": "a8bce02f-6589-48bd-bbd3-a934db4a5599"
      },
      "outputs": [
        {
          "name": "stdout",
          "output_type": "stream",
          "text": [
            "Confusion Matrix\n"
          ]
        },
        {
          "data": {
            "text/html": [
              "<div>\n",
              "<style scoped>\n",
              "    .dataframe tbody tr th:only-of-type {\n",
              "        vertical-align: middle;\n",
              "    }\n",
              "\n",
              "    .dataframe tbody tr th {\n",
              "        vertical-align: top;\n",
              "    }\n",
              "\n",
              "    .dataframe thead th {\n",
              "        text-align: right;\n",
              "    }\n",
              "</style>\n",
              "<table border=\"1\" class=\"dataframe\">\n",
              "  <thead>\n",
              "    <tr style=\"text-align: right;\">\n",
              "      <th></th>\n",
              "      <th>Predicted 0</th>\n",
              "      <th>Predicted 1</th>\n",
              "      <th>Predicted 2</th>\n",
              "      <th>Predicted 3</th>\n",
              "      <th>Predicted 4</th>\n",
              "    </tr>\n",
              "  </thead>\n",
              "  <tbody>\n",
              "    <tr>\n",
              "      <th>Actual 0</th>\n",
              "      <td>525</td>\n",
              "      <td>132</td>\n",
              "      <td>13</td>\n",
              "      <td>1</td>\n",
              "      <td>0</td>\n",
              "    </tr>\n",
              "    <tr>\n",
              "      <th>Actual 1</th>\n",
              "      <td>163</td>\n",
              "      <td>331</td>\n",
              "      <td>122</td>\n",
              "      <td>17</td>\n",
              "      <td>0</td>\n",
              "    </tr>\n",
              "    <tr>\n",
              "      <th>Actual 2</th>\n",
              "      <td>19</td>\n",
              "      <td>119</td>\n",
              "      <td>267</td>\n",
              "      <td>99</td>\n",
              "      <td>21</td>\n",
              "    </tr>\n",
              "    <tr>\n",
              "      <th>Actual 3</th>\n",
              "      <td>0</td>\n",
              "      <td>9</td>\n",
              "      <td>142</td>\n",
              "      <td>230</td>\n",
              "      <td>109</td>\n",
              "    </tr>\n",
              "    <tr>\n",
              "      <th>Actual 4</th>\n",
              "      <td>0</td>\n",
              "      <td>1</td>\n",
              "      <td>13</td>\n",
              "      <td>152</td>\n",
              "      <td>395</td>\n",
              "    </tr>\n",
              "  </tbody>\n",
              "</table>\n",
              "</div>"
            ],
            "text/plain": [
              "          Predicted 0  Predicted 1  Predicted 2  Predicted 3  Predicted 4\n",
              "Actual 0          525          132           13            1            0\n",
              "Actual 1          163          331          122           17            0\n",
              "Actual 2           19          119          267           99           21\n",
              "Actual 3            0            9          142          230          109\n",
              "Actual 4            0            1           13          152          395"
            ]
          },
          "metadata": {},
          "output_type": "display_data"
        },
        {
          "name": "stdout",
          "output_type": "stream",
          "text": [
            "Accuracy Score : 0.6069444444444444\n",
            "Classification Report\n",
            "              precision    recall  f1-score   support\n",
            "\n",
            "         1.0       0.74      0.78      0.76       671\n",
            "         2.0       0.56      0.52      0.54       633\n",
            "         3.0       0.48      0.51      0.49       525\n",
            "         4.0       0.46      0.47      0.47       490\n",
            "         5.0       0.75      0.70      0.73       561\n",
            "\n",
            "    accuracy                           0.61      2880\n",
            "   macro avg       0.60      0.60      0.60      2880\n",
            "weighted avg       0.61      0.61      0.61      2880\n",
            "\n"
          ]
        }
      ],
      "source": [
        "# Displaying results\n",
        "print(\"Confusion Matrix\")\n",
        "display(cm_df)\n",
        "print(f\"Accuracy Score : {acc_score}\")\n",
        "print(\"Classification Report\")\n",
        "print(classification_report(y_test, predictions))"
      ]
    },
    {
      "cell_type": "code",
      "execution_count": 20,
      "metadata": {
        "colab": {
          "base_uri": "https://localhost:8080/",
          "height": 470
        },
        "id": "4Eom-80EFcWG",
        "outputId": "5f31378a-40fe-4ce7-f4ee-43f480083dd3"
      },
      "outputs": [
        {
          "data": {
            "text/plain": [
              "<Axes: title={'center': 'Features Importances'}, ylabel='1'>"
            ]
          },
          "execution_count": 20,
          "metadata": {},
          "output_type": "execute_result"
        },
        {
          "data": {
            "image/png": "[encoded data removed]",
            "text/plain": [
              "<Figure size 640x480 with 1 Axes>"
            ]
          },
          "metadata": {},
          "output_type": "display_data"
        }
      ],
      "source": [
        "# Visualize the features by importance\n",
        "importances_df = pd.DataFrame(sorted(zip(rf_model.feature_importances_, X.columns), reverse=True))\n",
        "importances_df.set_index(importances_df[1], inplace=True)\n",
        "importances_df.drop(columns=1, inplace=True)\n",
        "importances_df.rename(columns={0: 'Feature Importances'}, inplace=True)\n",
        "importances_sorted = importances_df.sort_values(by='Feature Importances')\n",
        "importances_sorted.plot(kind='barh', color='lightgreen', title= 'Features Importances', legend=False)"
      ]
    },
    {
      "cell_type": "code",
      "execution_count": 21,
      "metadata": {
        "colab": {
          "base_uri": "https://localhost:8080/"
        },
        "id": "w4B2qN0tFu9R",
        "outputId": "57c4111d-aae6-469e-9b8b-e0e5ad4296a8"
      },
      "outputs": [
        {
          "name": "stdout",
          "output_type": "stream",
          "text": [
            "Overall Rating\n",
            "1.0    3326\n",
            "2.0    3091\n",
            "3.0    2794\n",
            "5.0    2714\n",
            "4.0    2475\n",
            "Name: count, dtype: int64\n"
          ]
        }
      ],
      "source": [
        "# Look at 'Overall Rating' value counts to identify binning options\n",
        "print(df_clean['Overall Rating'].value_counts())"
      ]
    },
    {
      "cell_type": "code",
      "execution_count": 22,
      "metadata": {
        "colab": {
          "base_uri": "https://localhost:8080/",
          "height": 210
        },
        "id": "UVrvxlnLFxJy",
        "outputId": "fc04c78c-dca3-42cb-9e35-b705548e0984"
      },
      "outputs": [
        {
          "data": {
            "text/plain": [
              "Overall Rating\n",
              "3.0    8360\n",
              "1.0    3326\n",
              "5.0    2714\n",
              "Name: count, dtype: int64"
            ]
          },
          "execution_count": 22,
          "metadata": {},
          "output_type": "execute_result"
        }
      ],
      "source": [
        "# Merged 2, 3, and 4 into one for ease of assessment of \"other categories\".\n",
        "\n",
        "df_clean['Overall Rating'] = df_clean['Overall Rating'].replace([2, 4], 3)\n",
        "\n",
        "df_clean['Overall Rating'].value_counts()"
      ]
    },
    {
      "cell_type": "code",
      "execution_count": 23,
      "metadata": {
        "id": "-xCjG8YtGE4a"
      },
      "outputs": [],
      "source": [
        "# Defining the features (X) and target (y)\n",
        "X = df_clean.drop('Overall Rating', axis=1)\n",
        "y = df_clean['Overall Rating']"
      ]
    },
    {
      "cell_type": "code",
      "execution_count": 24,
      "metadata": {
        "id": "e31OgPgQGGjy"
      },
      "outputs": [],
      "source": [
        "# Splitting the data into training and testing sets\n",
        "X_train, X_test, y_train, y_test = train_test_split(X, y, test_size=0.2, random_state=42)"
      ]
    },
    {
      "cell_type": "code",
      "execution_count": 25,
      "metadata": {
        "id": "7viE-x04GIbf"
      },
      "outputs": [],
      "source": [
        "# Scaling numerical features\n",
        "scaler = StandardScaler()\n",
        "X_train_scaled = scaler.fit_transform(X_train)\n",
        "X_test_scaled = scaler.transform(X_test)"
      ]
    },
    {
      "cell_type": "code",
      "execution_count": 26,
      "metadata": {
        "colab": {
          "base_uri": "https://localhost:8080/",
          "height": 75
        },
        "id": "HRFvQ9CAGJ8D",
        "outputId": "96ddf0fe-5cc7-4a6f-99ee-9a589819c0e6"
      },
      "outputs": [
        {
          "data": {
            "text/html": [
              "<style>#sk-container-id-2 {color: black;}#sk-container-id-2 pre{padding: 0;}#sk-container-id-2 div.sk-toggleable {background-color: white;}#sk-container-id-2 label.sk-toggleable__label {cursor: pointer;display: block;width: 100%;margin-bottom: 0;padding: 0.3em;box-sizing: border-box;text-align: center;}#sk-container-id-2 label.sk-toggleable__label-arrow:before {content: \"▸\";float: left;margin-right: 0.25em;color: #696969;}#sk-container-id-2 label.sk-toggleable__label-arrow:hover:before {color: black;}#sk-container-id-2 div.sk-estimator:hover label.sk-toggleable__label-arrow:before {color: black;}#sk-container-id-2 div.sk-toggleable__content {max-height: 0;max-width: 0;overflow: hidden;text-align: left;background-color: #f0f8ff;}#sk-container-id-2 div.sk-toggleable__content pre {margin: 0.2em;color: black;border-radius: 0.25em;background-color: #f0f8ff;}#sk-container-id-2 input.sk-toggleable__control:checked~div.sk-toggleable__content {max-height: 200px;max-width: 100%;overflow: auto;}#sk-container-id-2 input.sk-toggleable__control:checked~label.sk-toggleable__label-arrow:before {content: \"▾\";}#sk-container-id-2 div.sk-estimator input.sk-toggleable__control:checked~label.sk-toggleable__label {background-color: #d4ebff;}#sk-container-id-2 div.sk-label input.sk-toggleable__control:checked~label.sk-toggleable__label {background-color: #d4ebff;}#sk-container-id-2 input.sk-hidden--visually {border: 0;clip: rect(1px 1px 1px 1px);clip: rect(1px, 1px, 1px, 1px);height: 1px;margin: -1px;overflow: hidden;padding: 0;position: absolute;width: 1px;}#sk-container-id-2 div.sk-estimator {font-family: monospace;background-color: #f0f8ff;border: 1px dotted black;border-radius: 0.25em;box-sizing: border-box;margin-bottom: 0.5em;}#sk-container-id-2 div.sk-estimator:hover {background-color: #d4ebff;}#sk-container-id-2 div.sk-parallel-item::after {content: \"\";width: 100%;border-bottom: 1px solid gray;flex-grow: 1;}#sk-container-id-2 div.sk-label:hover label.sk-toggleable__label {background-color: #d4ebff;}#sk-container-id-2 div.sk-serial::before {content: \"\";position: absolute;border-left: 1px solid gray;box-sizing: border-box;top: 0;bottom: 0;left: 50%;z-index: 0;}#sk-container-id-2 div.sk-serial {display: flex;flex-direction: column;align-items: center;background-color: white;padding-right: 0.2em;padding-left: 0.2em;position: relative;}#sk-container-id-2 div.sk-item {position: relative;z-index: 1;}#sk-container-id-2 div.sk-parallel {display: flex;align-items: stretch;justify-content: center;background-color: white;position: relative;}#sk-container-id-2 div.sk-item::before, #sk-container-id-2 div.sk-parallel-item::before {content: \"\";position: absolute;border-left: 1px solid gray;box-sizing: border-box;top: 0;bottom: 0;left: 50%;z-index: -1;}#sk-container-id-2 div.sk-parallel-item {display: flex;flex-direction: column;z-index: 1;position: relative;background-color: white;}#sk-container-id-2 div.sk-parallel-item:first-child::after {align-self: flex-end;width: 50%;}#sk-container-id-2 div.sk-parallel-item:last-child::after {align-self: flex-start;width: 50%;}#sk-container-id-2 div.sk-parallel-item:only-child::after {width: 0;}#sk-container-id-2 div.sk-dashed-wrapped {border: 1px dashed gray;margin: 0 0.4em 0.5em 0.4em;box-sizing: border-box;padding-bottom: 0.4em;background-color: white;}#sk-container-id-2 div.sk-label label {font-family: monospace;font-weight: bold;display: inline-block;line-height: 1.2em;}#sk-container-id-2 div.sk-label-container {text-align: center;}#sk-container-id-2 div.sk-container {/* jupyter's `normalize.less` sets `[hidden] { display: none; }` but bootstrap.min.css set `[hidden] { display: none !important; }` so we also need the `!important` here to be able to override the default hidden behavior on the sphinx rendered scikit-learn.org. See: https://github.com/scikit-learn/scikit-learn/issues/21755 */display: inline-block !important;position: relative;}#sk-container-id-2 div.sk-text-repr-fallback {display: none;}</style><div id=\"sk-container-id-2\" class=\"sk-top-container\"><div class=\"sk-text-repr-fallback\"><pre>RandomForestRegressor(random_state=42)</pre><b>In a Jupyter environment, please rerun this cell to show the HTML representation or trust the notebook. <br />On GitHub, the HTML representation is unable to render, please try loading this page with nbviewer.org.</b></div><div class=\"sk-container\" hidden><div class=\"sk-item\"><div class=\"sk-estimator sk-toggleable\"><input class=\"sk-toggleable__control sk-hidden--visually\" id=\"sk-estimator-id-2\" type=\"checkbox\" checked><label for=\"sk-estimator-id-2\" class=\"sk-toggleable__label sk-toggleable__label-arrow\">RandomForestRegressor</label><div class=\"sk-toggleable__content\"><pre>RandomForestRegressor(random_state=42)</pre></div></div></div></div></div>"
            ],
            "text/plain": [
              "RandomForestRegressor(random_state=42)"
            ]
          },
          "execution_count": 26,
          "metadata": {},
          "output_type": "execute_result"
        }
      ],
      "source": [
        "# Training the Random Forest Regressor\n",
        "model = RandomForestRegressor(n_estimators=100, random_state=42)\n",
        "model.fit(X_train_scaled, y_train)"
      ]
    },
    {
      "cell_type": "code",
      "execution_count": 27,
      "metadata": {
        "id": "-uK_109QGL39"
      },
      "outputs": [],
      "source": [
        "# Making predictions\n",
        "y_pred = model.predict(X_test_scaled)"
      ]
    },
    {
      "cell_type": "code",
      "execution_count": 28,
      "metadata": {
        "id": "F5D5VkhbGPFs"
      },
      "outputs": [],
      "source": [
        "# Create a random forest classifier\n",
        "rf_model = RandomForestClassifier(n_estimators=100, random_state=42)"
      ]
    },
    {
      "cell_type": "code",
      "execution_count": 29,
      "metadata": {
        "id": "LiI_Ue3KGQt7"
      },
      "outputs": [],
      "source": [
        "#Fitting the model\n",
        "rf_model = rf_model.fit(X_train_scaled, y_train)"
      ]
    },
    {
      "cell_type": "code",
      "execution_count": 30,
      "metadata": {
        "id": "poLDT8nZGSOo"
      },
      "outputs": [],
      "source": [
        "# Making predictions using the testing data\n",
        "predictions = rf_model.predict(X_test_scaled)"
      ]
    },
    {
      "cell_type": "code",
      "execution_count": 31,
      "metadata": {
        "id": "vuiCysEOGTxg"
      },
      "outputs": [],
      "source": [
        "# Calculating the confusion matrix\n",
        "cm = confusion_matrix(y_test, predictions)\n",
        "cm_df = pd.DataFrame(\n",
        "    cm, index=[\"Actual 0\", \"Actual 1\", \"Actual 2\"],\n",
        "    columns=[\"Predicted 0\", \"Predicted 1\", \"Predicted 2\"]\n",
        ")\n",
        "\n",
        "# Calculating the accuracy score\n",
        "acc_score = accuracy_score(y_test, predictions)"
      ]
    },
    {
      "cell_type": "code",
      "execution_count": 32,
      "metadata": {
        "colab": {
          "base_uri": "https://localhost:8080/",
          "height": 376
        },
        "id": "c5UbxSeHGXNF",
        "outputId": "d9e4cb8c-ed16-40da-f7ad-c340a1cad6eb"
      },
      "outputs": [
        {
          "name": "stdout",
          "output_type": "stream",
          "text": [
            "Confusion Matrix\n"
          ]
        },
        {
          "data": {
            "text/html": [
              "<div>\n",
              "<style scoped>\n",
              "    .dataframe tbody tr th:only-of-type {\n",
              "        vertical-align: middle;\n",
              "    }\n",
              "\n",
              "    .dataframe tbody tr th {\n",
              "        vertical-align: top;\n",
              "    }\n",
              "\n",
              "    .dataframe thead th {\n",
              "        text-align: right;\n",
              "    }\n",
              "</style>\n",
              "<table border=\"1\" class=\"dataframe\">\n",
              "  <thead>\n",
              "    <tr style=\"text-align: right;\">\n",
              "      <th></th>\n",
              "      <th>Predicted 0</th>\n",
              "      <th>Predicted 1</th>\n",
              "      <th>Predicted 2</th>\n",
              "    </tr>\n",
              "  </thead>\n",
              "  <tbody>\n",
              "    <tr>\n",
              "      <th>Actual 0</th>\n",
              "      <td>495</td>\n",
              "      <td>176</td>\n",
              "      <td>0</td>\n",
              "    </tr>\n",
              "    <tr>\n",
              "      <th>Actual 1</th>\n",
              "      <td>132</td>\n",
              "      <td>1433</td>\n",
              "      <td>83</td>\n",
              "    </tr>\n",
              "    <tr>\n",
              "      <th>Actual 2</th>\n",
              "      <td>0</td>\n",
              "      <td>204</td>\n",
              "      <td>357</td>\n",
              "    </tr>\n",
              "  </tbody>\n",
              "</table>\n",
              "</div>"
            ],
            "text/plain": [
              "          Predicted 0  Predicted 1  Predicted 2\n",
              "Actual 0          495          176            0\n",
              "Actual 1          132         1433           83\n",
              "Actual 2            0          204          357"
            ]
          },
          "metadata": {},
          "output_type": "display_data"
        },
        {
          "name": "stdout",
          "output_type": "stream",
          "text": [
            "Accuracy Score : 0.7934027777777778\n",
            "Classification Report\n",
            "              precision    recall  f1-score   support\n",
            "\n",
            "         1.0       0.79      0.74      0.76       671\n",
            "         3.0       0.79      0.87      0.83      1648\n",
            "         5.0       0.81      0.64      0.71       561\n",
            "\n",
            "    accuracy                           0.79      2880\n",
            "   macro avg       0.80      0.75      0.77      2880\n",
            "weighted avg       0.79      0.79      0.79      2880\n",
            "\n"
          ]
        }
      ],
      "source": [
        "# Displaying results\n",
        "print(\"Confusion Matrix\")\n",
        "display(cm_df)\n",
        "print(f\"Accuracy Score : {acc_score}\")\n",
        "print(\"Classification Report\")\n",
        "print(classification_report(y_test, predictions))"
      ]
    },
    {
      "cell_type": "code",
      "execution_count": 33,
      "metadata": {
        "id": "VbFnrgm0BtU0"
      },
      "outputs": [],
      "source": [
        "# Close the connection\n",
        "conn.close()"
      ]
    }
  ],
  "metadata": {
    "colab": {
      "provenance": []
    },
    "kernelspec": {
      "display_name": "Python 3",
      "name": "python3"
    },
    "language_info": {
      "codemirror_mode": {
        "name": "ipython",
        "version": 3
      },
      "file_extension": ".py",
      "mimetype": "text/x-python",
      "name": "python",
      "nbconvert_exporter": "python",
      "pygments_lexer": "ipython3",
      "version": "3.10.13"
    }
  },
  "nbformat": 4,
  "nbformat_minor": 0
}
